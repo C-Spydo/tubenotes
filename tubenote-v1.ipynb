{
 "cells": [
  {
   "cell_type": "code",
   "execution_count": 83,
   "metadata": {},
   "outputs": [
    {
     "data": {
      "text/plain": [
       "True"
      ]
     },
     "execution_count": 83,
     "metadata": {},
     "output_type": "execute_result"
    }
   ],
   "source": [
    "from dotenv import load_dotenv\n",
    "import serpapi\n",
    "import os, requests\n",
    "from youtube_transcript_api import YouTubeTranscriptApi\n",
    "from google import genai\n",
    "\n",
    "load_dotenv()"
   ]
  },
  {
   "cell_type": "code",
   "execution_count": 84,
   "metadata": {},
   "outputs": [],
   "source": [
    "def change_youtube_link_to_video_id(link: str):\n",
    "    return link.replace(\"https://www.youtube.com/watch?v=\", \"\")\n",
    "\n",
    "def get_related_youtube_searches(query):\n",
    "    client = serpapi.Client(api_key=os.getenv('SERPAPI_API_KEY'))\n",
    "\n",
    "    results = client.search({\n",
    "        'search_query': query,\n",
    "        'engine': 'youtube'\n",
    "    })\n",
    "\n",
    "    youtube_links = [(video['title'], change_youtube_link_to_video_id(video['link'])) for video in results['video_results']]\n",
    "    return youtube_links[:1]\n",
    "\n",
    "def format_transcripts(video_data: tuple[str, str]):\n",
    "    ytt_api = YouTubeTranscriptApi()\n",
    "\n",
    "    youtube_transcripts = []\n",
    "    for title, video_id in video_data:\n",
    "        transcripts = ytt_api.fetch(video_id)\n",
    "        transcript_text = \"\\n\".join([transcript.text for transcript in transcripts])\n",
    "\n",
    "        youtube_transcripts.append(f'''Title: {title}\\nTranscript:\\n {transcript_text}\\n''')\n",
    "    \n",
    "    return youtube_transcripts\n",
    "\n",
    "def get_youtube_transcripts(query: str) -> list[str]:\n",
    "    \"\"\"Fetches YouTube transcripts for differnt topics.\n",
    "\n",
    "    Args:\n",
    "        query: Topic of interest\n",
    "\n",
    "    Returns:\n",
    "        A list containing the transcripts of different youtube videos.\n",
    "    \"\"\"\n",
    "    video_data = get_related_youtube_searches(query)\n",
    "\n",
    "    return format_transcripts(video_data)"
   ]
  },
  {
   "cell_type": "code",
   "execution_count": 85,
   "metadata": {},
   "outputs": [],
   "source": [
    "transcripts = get_youtube_transcripts('Jimmy Carter')"
   ]
  },
  {
   "cell_type": "code",
   "execution_count": 86,
   "metadata": {},
   "outputs": [
    {
     "data": {
      "text/plain": [
       "\"Title: The unlikely life story of Jimmy Carter\\nTranscript:\\n they honored late President Jimmy\\xa0\\nCarter in his home state of Georgia\\nyesterday a motorcade with Carter's flag draped\\xa0\\ncasket traveled through his hometown of plains and\\xa0\\xa0\\nthen onto Atlanta where he Now lies in Repose at\\xa0\\nthe Carter presidential center before ceremonies\\xa0\\xa0\\nmove on to Washington on Tuesday we've asked Rita\\xa0\\nbraver to take a closer look at the unlikely life\\xa0\\xa0\\nstory of our 39th president I would not tell a\\xa0\\nlie I would not mislead the American people and\\xa0\\xa0\\nI would not betray your trust if anything Define\\xa0\\nJimmy carter it was his basic decency and morality\\xa0\\xa0\\nthank you again please thank you everybody\\xa0\\nelected in 1976 in the aftermath of Watergate\\xa0\\xa0\\nand Gerald Ford's controversial pardon of Richard\\xa0\\nNixon Carter believed he had a responsibility to\\xa0\\xa0\\nrestore Americans' faith in the Integrity of their\\xa0\\ngovernment we want to be proud again we just want\\xa0\\xa0\\nthe truth again it was a stunning rise to power\\xa0\\nfor a little known Georgia Governor my name is\\xa0\\xa0\\nJimmy Carter and I'm running for President Jimmy\\xa0\\nwho? Jimmy who? that was the question a lot of\\xa0\\xa0\\nAmericans asked when Carter first announced that\\xa0\\nhe was going to run for the White House why did\\xa0\\xa0\\nhe think he could win he had a great sense of\\xa0\\nhis own capabilities stuart Eizenstat started\\xa0\\xa0\\nworking with Carter when he ran for governor in\\xa0\\n1970 and ultimately became his white house chief\\xa0\\xa0\\nof domestic policy this was during the campaign\\xa0\\nthough the son of a successful peanut farmer Jimmy\\xa0\\xa0\\nCarter grew up without electricity or running\\xa0\\nwater just outside Plains Georgia still Carter\\xa0\\xa0\\nwould win admission to the Naval Academy and while\\xa0\\nin Annapolis he started dating Rosalynn Smith they\\xa0\\xa0\\nmarried in 1946 and she would become his most\\xa0\\ntrusted adviser they were not only married for\\xa0\\xa0\\nover 70 years they had a love affair Carter had to\\xa0\\nabandon his Naval career to take over the family\\xa0\\xa0\\npeanut business when his father died the Carters\\xa0\\nmoved back to Plains and started raising three\\xa0\\xa0\\nsons and a daughter and this is you huh yeah this\\xa0\\nis little chip chip Carter is the second born son\\xa0\\xa0\\nhe recalls that Against All Odds his father\\xa0\\ncaptured the Democratic nomination and with\\xa0\\xa0\\nMinnesota senator Walter Mondale as his running\\xa0\\nmate won the election I Jimmy Carter do solemnly\\xa0\\xa0\\nswear chip Carter says he helped arrange one of\\xa0\\nthe most famous images of the Carter inaugural I\\xa0\\xa0\\nwent to Dad's Secret Service agents and said we\\xa0\\nmight want to do this walk tradition shattering\\xa0\\xa0\\nwalked on pennsylvania Avenue and that walk seemed\\xa0\\nto symbolize the open and energetic approach Jimmy\\xa0\\xa0\\nCarter would bring to the White House but it was\\xa0\\nto be a tumultuous presidency in part because of\\xa0\\xa0\\nCarter's complex personality he was humble affable\\xa0\\nopen and then also he could be difficult prickly\\xa0\\xa0\\nstubborn journalist and author Jonathan alter\\xa0\\nspent many hours with Carter for a biography\\xa0\\xa0\\nthere was much more accomplishment in the Carter\\xa0\\npresidency than I had thought famous for wearing\\xa0\\xa0\\nsweaters to dramatize how he turned down the\\xa0\\nWhite House thermostats Carter pushed through\\xa0\\xa0\\ncomprehensive energy legislation he created the\\xa0\\ndepartment of Education deregulated Airlines\\xa0\\xa0\\ndoubled the amount of land in our national parks\\xa0\\nand in one of his most important and controversial\\xa0\\xa0\\ninitiatives Carter negotiated the return of the\\xa0\\nPanama Canal Zone to the Panamanians this opens\\xa0\\xa0\\na new chapter in our relations with all nations of\\xa0\\nthis hemisphere but perhaps his crowning foreign\\xa0\\xa0\\npolicy accomplishment was pushing through the\\xa0\\nCamp David Accords very good the historic 1978\\xa0\\xa0\\nagreement between Israel and Egypt and that treaty\\xa0\\nis the most successful peace treaty since World\\xa0\\xa0\\nWar II but in 1979 other middle East issues\\xa0\\nwould lead to gasoline shortages that created\\xa0\\xa0\\nhigh prices and long waits at gas stations\\xa0\\nCarter's popularity plummeted and in July he\\xa0\\xa0\\ndecided to give a speech to the nation warning of\\xa0\\na crisis in confidence too many of us now tend to\\xa0\\xa0\\nworship self-indulgence and consumption much to\\xa0\\nthe surprise of many political and pundits the\\xa0\\xa0\\nspeech was immediately popular the speech hit\\xa0\\na raw nerve contrary to my own belief and then\\xa0\\xa0\\nhe stepped on his own headlines he asked\\xa0\\nfor the resignation of his entire cabinet\\xa0\\xa0\\nlooked like the whole government was in chaos\\xa0\\nand then we're using every available channel to\\xa0\\xa0\\nprotect the safety of the hostages and to secure\\xa0\\ntheir release in November of '79 52 Americans were\\xa0\\xa0\\ntaken hostage at the US Embassy in Iran followed\\xa0\\nby a failed attempt to get them out all in the\\xa0\\xa0\\nleadup to the 1980 presidential election the roof\\xa0\\ncaved in on Jimmy Carter and so Jimmy Carter would\\xa0\\xa0\\nlose to the upbeat message of Ronald Reagan but\\xa0\\nit was the start of a whole new chapter you've\\xa0\\xa0\\nbeen quoted as saying that you think maybe you've\\xa0\\nhad a better ex presidency than presidency well\\xa0\\xa0\\nthat may be true certainly my reputation has been\\xa0\\nbetter in the post-presidential years than maybe\\xa0\\xa0\\nin the White House and no wonder he and Rosalynn\\xa0\\nwho died in 2023 founded The Carter Center to\\xa0\\xa0\\npromote democracy and improve health care around\\xa0\\nthe world in 2002 Jimmy Carter won the Nobel Peace\\xa0\\xa0\\nPrize we will not learn how to live together in\\xa0\\nPeace by killing each other's children Carter\\xa0\\xa0\\nwrote more than 30 books over the years and he and\\xa0\\nRosalynn would continue their work building homes\\xa0\\xa0\\nfor Habitat for Humanity morning everybody all\\xa0\\nright I see you wide awake all the while teaching\\xa0\\xa0\\nSunday School in Plains everybody look this way\\xa0\\nat times Jimmy Carter could seem like a Superman\\xa0\\xa0\\ncoming back in 2015 from melanoma that had spread\\xa0\\nto his brain and liver at 100 James Earl Carter Jr\\xa0\\xa0\\nlived longer than any other American president\\xa0\\nso how do do you think your father should be\\nremembered a beautiful human being\\xa0\\nwho gave everything he could to to\\xa0\\xa0\\nhis children and his country and\\xa0\\nuh who made it a better place than\\xa0\\xa0\\nwhen he found it and I you know\\xa0\\nthat's about as good as I can get\\n\""
      ]
     },
     "execution_count": 86,
     "metadata": {},
     "output_type": "execute_result"
    }
   ],
   "source": [
    "transcripts[0]"
   ]
  },
  {
   "cell_type": "code",
   "execution_count": 89,
   "metadata": {},
   "outputs": [
    {
     "name": "stdout",
     "output_type": "stream",
     "text": [
      "The response is a JSON object containing a list of YouTube transcripts about Jimmy Carter.  The first transcript discusses his life, presidency, and post-presidency work.\n",
      "\n"
     ]
    }
   ],
   "source": [
    "config = {\n",
    "    'tools': [get_youtube_transcripts],\n",
    "}\n",
    "\n",
    "client = genai.Client(api_key=str(os.getenv('GEMINI_API_KEY')))\n",
    "\n",
    "response = client.models.generate_content(\n",
    "    model='gemini-1.5-flash', \n",
    "    config = config,\n",
    "    contents='Jimmy carter'\n",
    ")\n",
    "print(response.text)"
   ]
  },
  {
   "cell_type": "code",
   "execution_count": 88,
   "metadata": {},
   "outputs": [],
   "source": [
    "functions = [\n",
    "    {\n",
    "        \"name\": \"get_youtube_transcripts\",\n",
    "        \"description\": \"Perform a Google search using SerpAPI and return results\",\n",
    "        \"parameters\": {\n",
    "            \"type\": \"object\",\n",
    "            \"properties\": {\n",
    "                \"query\": {\"type\": \"string\", \"description\": \"Search query\"},\n",
    "                \"num_results\": {\"type\": \"integer\", \"description\": \"Number of results to return\"}\n",
    "            },\n",
    "            \"required\": [\"query\"]\n",
    "        }\n",
    "    }\n",
    "]"
   ]
  },
  {
   "cell_type": "code",
   "execution_count": null,
   "metadata": {},
   "outputs": [],
   "source": []
  }
 ],
 "metadata": {
  "kernelspec": {
   "display_name": "Python 3",
   "language": "python",
   "name": "python3"
  },
  "language_info": {
   "codemirror_mode": {
    "name": "ipython",
    "version": 3
   },
   "file_extension": ".py",
   "mimetype": "text/x-python",
   "name": "python",
   "nbconvert_exporter": "python",
   "pygments_lexer": "ipython3",
   "version": "3.9.13"
  }
 },
 "nbformat": 4,
 "nbformat_minor": 2
}
